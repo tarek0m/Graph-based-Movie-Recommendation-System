{
 "cells": [
  {
   "cell_type": "code",
   "execution_count": 1,
   "outputs": [],
   "source": [
    "import pandas as pd"
   ],
   "metadata": {
    "collapsed": false,
    "ExecuteTime": {
     "end_time": "2023-06-28T07:53:04.306712600Z",
     "start_time": "2023-06-28T07:53:03.714684500Z"
    }
   }
  },
  {
   "cell_type": "markdown",
   "source": [
    "# Split 100 random users and their ratings of the datasets"
   ],
   "metadata": {
    "collapsed": false
   }
  },
  {
   "cell_type": "code",
   "execution_count": 26,
   "outputs": [],
   "source": [
    "def split(df, split_size):\n",
    "    # split_size = 100\n",
    "    df_split = df.sample(n=split_size, random_state=1)\n",
    "    df_rest = df.drop(df_split.index)\n",
    "    return df_split, df_rest\n",
    "\n",
    "def save(df, filename):\n",
    "    df.to_pickle(filename)"
   ],
   "metadata": {
    "collapsed": false,
    "ExecuteTime": {
     "end_time": "2023-06-28T08:06:57.428701200Z",
     "start_time": "2023-06-28T08:06:57.416701200Z"
    }
   }
  },
  {
   "cell_type": "code",
   "execution_count": 27,
   "outputs": [
    {
     "name": "stdout",
     "output_type": "stream",
     "text": [
      "       UID gender  age  job    zip\n",
      "45      46      M   18   19  75602\n",
      "79      80      M   56    1  49327\n",
      "125    126      M   18    9  98117\n",
      "147    148      M   50   17  57747\n",
      "169    170      M   25   11  07002\n",
      "...    ...    ...  ...  ...    ...\n",
      "5581  5582      M   45    1  50011\n",
      "5691  5692      F   25    7  29615\n",
      "5692  5693      F   25    4  90034\n",
      "5797  5798      M   35    0  80027\n",
      "5937  5938      M   25    1  35401\n",
      "\n",
      "[100 rows x 5 columns]\n",
      "       UID gender  age  job    zip\n",
      "0        1      F    1   10  48067\n",
      "1        2      M   56   16  70072\n",
      "2        3      M   25   15  55117\n",
      "3        4      M   45    7  02460\n",
      "4        5      M   25   20  55455\n",
      "...    ...    ...  ...  ...    ...\n",
      "6035  6036      F   25   15  32603\n",
      "6036  6037      F   45    1  76006\n",
      "6037  6038      F   56    1  14706\n",
      "6038  6039      F   45    0  01060\n",
      "6039  6040      M   25    6  11106\n",
      "\n",
      "[5940 rows x 5 columns]\n"
     ]
    }
   ],
   "source": [
    "users = pd.read_csv('datasets/ml-1m/users.dat', sep='\\::', engine='python', names=['UID', 'gender', 'age',\n",
    "                                                                                             'job', 'zip'])\n",
    "users_split, users_rest = split(users, 100)\n",
    "\n",
    "# sort by UID\n",
    "users_split = users_split.sort_values(by=['UID'])\n",
    "users_rest = users_rest.sort_values(by=['UID'])\n",
    "\n",
    "print(users_split)\n",
    "print(users_rest)"
   ],
   "metadata": {
    "collapsed": false,
    "ExecuteTime": {
     "end_time": "2023-06-28T08:07:02.325426700Z",
     "start_time": "2023-06-28T08:07:02.296234600Z"
    }
   }
  },
  {
   "cell_type": "code",
   "execution_count": 28,
   "outputs": [],
   "source": [
    "save(users_split, 'datasets/unseen/users_split.dat')\n",
    "save(users_rest, 'datasets/seen/users_rest.dat')"
   ],
   "metadata": {
    "collapsed": false,
    "ExecuteTime": {
     "end_time": "2023-06-28T08:07:08.526546400Z",
     "start_time": "2023-06-28T08:07:08.504386500Z"
    }
   }
  },
  {
   "cell_type": "code",
   "execution_count": 29,
   "outputs": [
    {
     "name": "stdout",
     "output_type": "stream",
     "text": [
      "         UID   MID  rate        time\n",
      "6448      46  3280     5   977979487\n",
      "6449      46  2628     1   977979482\n",
      "6450      46  3939     5   977979062\n",
      "6451      46  1327     5   977979412\n",
      "6452      46  3361     1   977979482\n",
      "...      ...   ...   ...         ...\n",
      "983164  5938  2010     4   957273547\n",
      "983165  5938  3751     5   981066570\n",
      "983166  5938  1073     4  1002300499\n",
      "983167  5938   562     4  1002298900\n",
      "983168  5938  3786     4  1002297019\n",
      "\n",
      "[18923 rows x 4 columns]\n",
      "          UID   MID  rate       time\n",
      "0           1  1193     5  978300760\n",
      "1           1   661     3  978302109\n",
      "2           1   914     3  978301968\n",
      "3           1  3408     4  978300275\n",
      "4           1  2355     5  978824291\n",
      "...       ...   ...   ...        ...\n",
      "1000204  6040  1091     1  956716541\n",
      "1000205  6040  1094     5  956704887\n",
      "1000206  6040   562     5  956704746\n",
      "1000207  6040  1096     4  956715648\n",
      "1000208  6040  1097     4  956715569\n",
      "\n",
      "[981286 rows x 4 columns]\n"
     ]
    }
   ],
   "source": [
    "ratings = pd.read_csv('datasets/ml-1m/ratings.dat', sep='\\::', engine='python', names=['UID', 'MID', 'rate', 'time'])\n",
    "\n",
    "# look for ratings of users_split and split them\n",
    "ratings_split = ratings[ratings['UID'].isin(users_split['UID'])]\n",
    "ratings_rest = ratings.drop(ratings_split.index)\n",
    "\n",
    "print(ratings_split)\n",
    "print(ratings_rest)"
   ],
   "metadata": {
    "collapsed": false,
    "ExecuteTime": {
     "end_time": "2023-06-28T08:07:26.680629600Z",
     "start_time": "2023-06-28T08:07:23.188840400Z"
    }
   }
  },
  {
   "cell_type": "code",
   "execution_count": 30,
   "outputs": [],
   "source": [
    "save(ratings_split, 'datasets/unseen/ratings_split.dat')\n",
    "save(ratings_rest, 'datasets/seen/ratings_rest.dat')"
   ],
   "metadata": {
    "collapsed": false,
    "ExecuteTime": {
     "end_time": "2023-06-28T08:07:49.699770200Z",
     "start_time": "2023-06-28T08:07:49.473827100Z"
    }
   }
  }
 ],
 "metadata": {
  "kernelspec": {
   "display_name": "Python 3",
   "language": "python",
   "name": "python3"
  },
  "language_info": {
   "codemirror_mode": {
    "name": "ipython",
    "version": 2
   },
   "file_extension": ".py",
   "mimetype": "text/x-python",
   "name": "python",
   "nbconvert_exporter": "python",
   "pygments_lexer": "ipython2",
   "version": "2.7.6"
  }
 },
 "nbformat": 4,
 "nbformat_minor": 0
}
