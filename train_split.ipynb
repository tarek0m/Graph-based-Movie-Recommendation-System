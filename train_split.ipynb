{
 "cells": [
  {
   "cell_type": "code",
   "execution_count": 8,
   "metadata": {
    "collapsed": true,
    "ExecuteTime": {
     "end_time": "2023-06-30T16:59:58.285793400Z",
     "start_time": "2023-06-30T16:59:58.263793900Z"
    }
   },
   "outputs": [],
   "source": [
    "import pandas as pd\n",
    "import numpy as np\n",
    "import warnings\n",
    "from sklearn.model_selection import train_test_split\n",
    "import pandas as pd\n",
    "warnings.filterwarnings(\"ignore\")"
   ]
  },
  {
   "cell_type": "code",
   "execution_count": 9,
   "outputs": [],
   "source": [
    "X = pd.read_pickle(\"datasets/combined-u/combined_alpha(0.005).pkl\")"
   ],
   "metadata": {
    "collapsed": false,
    "ExecuteTime": {
     "end_time": "2023-06-30T16:59:58.646884500Z",
     "start_time": "2023-06-30T16:59:58.632885900Z"
    }
   }
  },
  {
   "cell_type": "code",
   "execution_count": 10,
   "outputs": [],
   "source": [
    "# select features or attributes to use for stratification\n",
    "features = ['age1', 'age2', 'age3', 'age4', 'age5', 'age6', 'gender1', 'gender2']\n",
    "\n",
    "# create a new column that combines the selected features\n",
    "X['stratify_col'] = X[features].apply(lambda x: '-'.join(x.astype(str)), axis=1)\n",
    "\n",
    "# split data between AE and clustering\n",
    "X_train_ae, X_train_kmeans = train_test_split(X, test_size=0.2, stratify=X['stratify_col'], random_state=23)\n",
    "\n",
    "\n",
    "# drop the stratify_col column from the datasets\n",
    "X_train_ae.drop(columns=['stratify_col'], inplace=True)\n",
    "X_train_kmeans.drop(columns=['stratify_col'], inplace=True)"
   ],
   "metadata": {
    "collapsed": false,
    "ExecuteTime": {
     "end_time": "2023-06-30T16:59:59.747795200Z",
     "start_time": "2023-06-30T16:59:59.465099600Z"
    }
   }
  },
  {
   "cell_type": "code",
   "execution_count": 11,
   "outputs": [],
   "source": [
    "X_train_ae.to_pickle(\"datasets/combined-u/combined_alpha(0.005)_train_ae.pkl\")\n",
    "X_train_kmeans.to_pickle(\"datasets/combined-u/combined_alpha(0.005)_train_kmeans.pkl\")"
   ],
   "metadata": {
    "collapsed": false,
    "ExecuteTime": {
     "end_time": "2023-06-30T17:00:09.829943800Z",
     "start_time": "2023-06-30T17:00:09.813944100Z"
    }
   }
  },
  {
   "cell_type": "code",
   "execution_count": null,
   "outputs": [],
   "source": [],
   "metadata": {
    "collapsed": false
   }
  }
 ],
 "metadata": {
  "kernelspec": {
   "display_name": "Python 3",
   "language": "python",
   "name": "python3"
  },
  "language_info": {
   "codemirror_mode": {
    "name": "ipython",
    "version": 2
   },
   "file_extension": ".py",
   "mimetype": "text/x-python",
   "name": "python",
   "nbconvert_exporter": "python",
   "pygments_lexer": "ipython2",
   "version": "2.7.6"
  }
 },
 "nbformat": 4,
 "nbformat_minor": 0
}
