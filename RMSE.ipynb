{
 "cells": [
  {
   "cell_type": "code",
   "execution_count": 1,
   "outputs": [],
   "source": [
    "import pandas as pd\n",
    "import numpy as np\n",
    "from sklearn.metrics import mean_squared_error\n",
    "import warnings\n",
    "\n",
    "warnings.filterwarnings(\"ignore\")"
   ],
   "metadata": {
    "collapsed": false,
    "ExecuteTime": {
     "end_time": "2023-07-01T00:28:03.322027800Z",
     "start_time": "2023-07-01T00:28:02.291028600Z"
    }
   }
  },
  {
   "cell_type": "code",
   "execution_count": 2,
   "outputs": [],
   "source": [
    "ratings_original = pd.read_csv(\"datasets/ml-1m/ratings.dat\", sep='\\::', engine='python', names=['UID', 'MID', 'rate', 'time'])\n",
    "ratings_original.drop(columns=['time'], inplace=True)"
   ],
   "metadata": {
    "collapsed": false,
    "ExecuteTime": {
     "end_time": "2023-07-01T00:28:07.746047400Z",
     "start_time": "2023-07-01T00:28:03.324030100Z"
    }
   }
  },
  {
   "cell_type": "code",
   "execution_count": 3,
   "outputs": [],
   "source": [
    "all_cluster_items = pd.read_pickle(\"datasets/matrices/all_cluster_items.pkl\")"
   ],
   "metadata": {
    "collapsed": false,
    "ExecuteTime": {
     "end_time": "2023-07-01T00:28:07.761046500Z",
     "start_time": "2023-07-01T00:28:07.747046400Z"
    }
   }
  },
  {
   "cell_type": "code",
   "execution_count": 4,
   "outputs": [],
   "source": [
    "all_users_cluster = pd.read_pickle(\"datasets/matrices/all_users_cluster.pkl\")"
   ],
   "metadata": {
    "collapsed": false,
    "ExecuteTime": {
     "end_time": "2023-07-01T00:28:07.793047500Z",
     "start_time": "2023-07-01T00:28:07.763047400Z"
    }
   }
  },
  {
   "cell_type": "code",
   "execution_count": 5,
   "outputs": [],
   "source": [
    "no_users = ratings_original['UID'].nunique()"
   ],
   "metadata": {
    "collapsed": false,
    "ExecuteTime": {
     "end_time": "2023-07-01T00:28:07.813046800Z",
     "start_time": "2023-07-01T00:28:07.779046600Z"
    }
   }
  },
  {
   "cell_type": "code",
   "execution_count": 6,
   "outputs": [],
   "source": [
    "ratings_predicted = pd.DataFrame(columns=['UID', 'MID', 'predicted_rate'])"
   ],
   "metadata": {
    "collapsed": false,
    "ExecuteTime": {
     "end_time": "2023-07-01T00:28:07.837046200Z",
     "start_time": "2023-07-01T00:28:07.809046200Z"
    }
   }
  },
  {
   "cell_type": "code",
   "execution_count": 7,
   "outputs": [
    {
     "name": "stdout",
     "output_type": "stream",
     "text": [
      "          UID   MID  rate\n",
      "0           1  1193     5\n",
      "1           1   661     3\n",
      "2           1   914     3\n",
      "3           1  3408     4\n",
      "4           1  2355     5\n",
      "...       ...   ...   ...\n",
      "1000204  6040  1091     1\n",
      "1000205  6040  1094     5\n",
      "1000206  6040   562     5\n",
      "1000207  6040  1096     4\n",
      "1000208  6040  1097     4\n",
      "\n",
      "[1000209 rows x 3 columns]\n"
     ]
    }
   ],
   "source": [
    "print(ratings_original)"
   ],
   "metadata": {
    "collapsed": false,
    "ExecuteTime": {
     "end_time": "2023-07-01T00:28:07.843046400Z",
     "start_time": "2023-07-01T00:28:07.826047100Z"
    }
   }
  },
  {
   "cell_type": "code",
   "execution_count": 8,
   "outputs": [
    {
     "name": "stdout",
     "output_type": "stream",
     "text": [
      "0 / 1000209\n",
      "10000 / 1000209\n",
      "20000 / 1000209\n",
      "30000 / 1000209\n",
      "40000 / 1000209\n",
      "50000 / 1000209\n",
      "60000 / 1000209\n",
      "70000 / 1000209\n",
      "80000 / 1000209\n",
      "90000 / 1000209\n",
      "100000 / 1000209\n",
      "110000 / 1000209\n",
      "120000 / 1000209\n",
      "130000 / 1000209\n",
      "140000 / 1000209\n",
      "150000 / 1000209\n",
      "160000 / 1000209\n",
      "170000 / 1000209\n",
      "180000 / 1000209\n",
      "190000 / 1000209\n",
      "200000 / 1000209\n",
      "210000 / 1000209\n",
      "220000 / 1000209\n",
      "230000 / 1000209\n",
      "240000 / 1000209\n",
      "250000 / 1000209\n",
      "260000 / 1000209\n",
      "270000 / 1000209\n",
      "280000 / 1000209\n",
      "290000 / 1000209\n",
      "300000 / 1000209\n",
      "310000 / 1000209\n",
      "320000 / 1000209\n",
      "330000 / 1000209\n",
      "340000 / 1000209\n",
      "350000 / 1000209\n",
      "360000 / 1000209\n",
      "370000 / 1000209\n",
      "380000 / 1000209\n",
      "390000 / 1000209\n",
      "400000 / 1000209\n",
      "410000 / 1000209\n",
      "420000 / 1000209\n",
      "430000 / 1000209\n",
      "440000 / 1000209\n",
      "450000 / 1000209\n",
      "460000 / 1000209\n",
      "470000 / 1000209\n",
      "480000 / 1000209\n",
      "490000 / 1000209\n",
      "500000 / 1000209\n",
      "510000 / 1000209\n",
      "520000 / 1000209\n",
      "530000 / 1000209\n",
      "540000 / 1000209\n",
      "550000 / 1000209\n",
      "560000 / 1000209\n",
      "570000 / 1000209\n",
      "580000 / 1000209\n",
      "590000 / 1000209\n",
      "600000 / 1000209\n",
      "610000 / 1000209\n",
      "620000 / 1000209\n",
      "630000 / 1000209\n",
      "640000 / 1000209\n",
      "650000 / 1000209\n",
      "660000 / 1000209\n",
      "670000 / 1000209\n",
      "680000 / 1000209\n",
      "690000 / 1000209\n",
      "700000 / 1000209\n",
      "710000 / 1000209\n",
      "720000 / 1000209\n",
      "730000 / 1000209\n",
      "740000 / 1000209\n",
      "750000 / 1000209\n",
      "760000 / 1000209\n",
      "770000 / 1000209\n",
      "780000 / 1000209\n",
      "790000 / 1000209\n",
      "800000 / 1000209\n",
      "810000 / 1000209\n",
      "820000 / 1000209\n",
      "830000 / 1000209\n",
      "840000 / 1000209\n",
      "850000 / 1000209\n",
      "860000 / 1000209\n",
      "870000 / 1000209\n",
      "880000 / 1000209\n",
      "890000 / 1000209\n",
      "900000 / 1000209\n",
      "910000 / 1000209\n",
      "920000 / 1000209\n",
      "930000 / 1000209\n",
      "940000 / 1000209\n",
      "950000 / 1000209\n",
      "960000 / 1000209\n",
      "970000 / 1000209\n",
      "980000 / 1000209\n",
      "990000 / 1000209\n",
      "1000000 / 1000209\n",
      "Done!\n"
     ]
    }
   ],
   "source": [
    "# iterate over all ratings\n",
    "for index, row in ratings_original.iterrows():\n",
    "    # get the user id\n",
    "    user = row['UID']\n",
    "    # get the movie id\n",
    "    movie = row['MID']\n",
    "    # get the cluster of the user\n",
    "    cluster = all_users_cluster.loc[user].values.tolist().index(1)\n",
    "    # get the cluster of the movie\n",
    "    cluster_items = all_cluster_items.loc[movie].values.tolist()\n",
    "    # get the predicted rating\n",
    "    predicted_rate = cluster_items[cluster]\n",
    "    # add the predicted rating to the dataframe\n",
    "    ratings_predicted = ratings_predicted.append({'UID': user, 'MID': movie, 'predicted_rate': predicted_rate}, ignore_index=True)\n",
    "    # print the progress every 10 seconds\n",
    "    if index % 10000 == 0:\n",
    "        print(index, \"/\", ratings_original.shape[0])\n",
    "\n",
    "print(\"Done!\")"
   ],
   "metadata": {
    "collapsed": false,
    "ExecuteTime": {
     "end_time": "2023-07-01T01:38:51.521220600Z",
     "start_time": "2023-07-01T00:28:07.843046400Z"
    }
   }
  },
  {
   "cell_type": "code",
   "execution_count": 9,
   "outputs": [],
   "source": [
    "# round the predicted ratings\n",
    "ratings_predicted['predicted_rate'] = ratings_predicted['predicted_rate'].apply(lambda x: round(x, 1))"
   ],
   "metadata": {
    "collapsed": false,
    "ExecuteTime": {
     "end_time": "2023-07-01T01:38:51.995220200Z",
     "start_time": "2023-07-01T01:38:51.523220400Z"
    }
   }
  },
  {
   "cell_type": "code",
   "execution_count": 10,
   "outputs": [
    {
     "name": "stdout",
     "output_type": "stream",
     "text": [
      "            UID     MID  predicted_rate\n",
      "0           1.0  1193.0             4.2\n",
      "1           1.0   661.0             3.3\n",
      "2           1.0   914.0             4.4\n",
      "3           1.0  3408.0             4.0\n",
      "4           1.0  2355.0             3.8\n",
      "...         ...     ...             ...\n",
      "1000204  6040.0  1091.0             2.8\n",
      "1000205  6040.0  1094.0             3.5\n",
      "1000206  6040.0   562.0             3.8\n",
      "1000207  6040.0  1096.0             3.8\n",
      "1000208  6040.0  1097.0             3.9\n",
      "\n",
      "[1000209 rows x 3 columns]\n"
     ]
    }
   ],
   "source": [
    "print(ratings_predicted)"
   ],
   "metadata": {
    "collapsed": false,
    "ExecuteTime": {
     "end_time": "2023-07-01T01:38:52.007977500Z",
     "start_time": "2023-07-01T01:38:51.994220100Z"
    }
   }
  },
  {
   "cell_type": "code",
   "execution_count": 11,
   "outputs": [],
   "source": [
    "# save the predicted ratings\n",
    "ratings_predicted.to_pickle(\"datasets/predictions/ratings_predicted.pkl\")"
   ],
   "metadata": {
    "collapsed": false,
    "ExecuteTime": {
     "end_time": "2023-07-01T01:38:52.041990100Z",
     "start_time": "2023-07-01T01:38:52.008977500Z"
    }
   }
  },
  {
   "cell_type": "code",
   "execution_count": 13,
   "outputs": [],
   "source": [
    "# compute RMSE between rates and predicted rates of all ratings:\n",
    "RMSE = np.sqrt(mean_squared_error(ratings_original['rate'], ratings_predicted['predicted_rate']))"
   ],
   "metadata": {
    "collapsed": false,
    "ExecuteTime": {
     "end_time": "2023-07-01T01:40:48.019028500Z",
     "start_time": "2023-07-01T01:40:47.995029800Z"
    }
   }
  },
  {
   "cell_type": "code",
   "execution_count": 15,
   "outputs": [
    {
     "name": "stdout",
     "output_type": "stream",
     "text": [
      "RMSE: 0.9483164110468449\n"
     ]
    }
   ],
   "source": [
    "print(\"RMSE:\", RMSE)"
   ],
   "metadata": {
    "collapsed": false,
    "ExecuteTime": {
     "end_time": "2023-07-01T01:41:16.434917500Z",
     "start_time": "2023-07-01T01:41:16.413917300Z"
    }
   }
  },
  {
   "cell_type": "code",
   "execution_count": null,
   "outputs": [],
   "source": [],
   "metadata": {
    "collapsed": false
   }
  }
 ],
 "metadata": {
  "kernelspec": {
   "display_name": "Python 3",
   "language": "python",
   "name": "python3"
  },
  "language_info": {
   "codemirror_mode": {
    "name": "ipython",
    "version": 2
   },
   "file_extension": ".py",
   "mimetype": "text/x-python",
   "name": "python",
   "nbconvert_exporter": "python",
   "pygments_lexer": "ipython2",
   "version": "2.7.6"
  }
 },
 "nbformat": 4,
 "nbformat_minor": 0
}
