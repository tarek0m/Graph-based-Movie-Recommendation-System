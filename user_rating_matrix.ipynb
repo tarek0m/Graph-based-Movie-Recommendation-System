{
 "cells": [
  {
   "cell_type": "code",
   "execution_count": 1,
   "metadata": {
    "collapsed": true,
    "ExecuteTime": {
     "end_time": "2023-06-30T22:35:34.498399900Z",
     "start_time": "2023-06-30T22:35:34.246554700Z"
    }
   },
   "outputs": [],
   "source": [
    "import pandas as pd\n",
    "import numpy as np\n",
    "import warnings\n",
    "\n",
    "warnings.filterwarnings(\"ignore\")"
   ]
  },
  {
   "cell_type": "code",
   "execution_count": 3,
   "outputs": [],
   "source": [
    "all_users_cluster = pd.read_pickle(\"datasets/matrices/all_users_cluster.pkl\")\n",
    "all_clusters_items = pd.read_pickle(\"datasets/matrices/all_cluster_items.pkl\")"
   ],
   "metadata": {
    "collapsed": false,
    "ExecuteTime": {
     "end_time": "2023-06-30T22:35:53.850251300Z",
     "start_time": "2023-06-30T22:35:53.825235Z"
    }
   }
  },
  {
   "cell_type": "code",
   "execution_count": 4,
   "outputs": [
    {
     "name": "stdout",
     "output_type": "stream",
     "text": [
      "cluster        0         1         2         3         4         5         6   \\\n",
      "MID                                                                             \n",
      "1        4.021127  3.970588  4.232558  4.155894  4.005650  4.327957  3.972222   \n",
      "2        3.387755  2.833333  3.400000  3.101064  2.898305  3.355556  3.218182   \n",
      "3        2.945946  3.000000  3.125000  2.957983  3.256410  3.046512  3.136364   \n",
      "4        3.000000  2.800000  2.800000  2.483871  2.250000  2.926829  2.000000   \n",
      "5        2.806452  3.000000  3.500000  2.890411  3.105263  3.000000  2.650000   \n",
      "...           ...       ...       ...       ...       ...       ...       ...   \n",
      "3948     3.558824  3.520000  3.613636  3.607143  3.637681  3.602740  3.902778   \n",
      "3949     4.156250  4.200000  3.428571  4.035714  4.033333  3.935484  4.400000   \n",
      "3950     3.800000  3.673213  3.000000  3.785714  3.857143  3.000000  2.400000   \n",
      "3951     3.600000  3.673213  3.500000  3.800000  4.000000  2.666667  4.000000   \n",
      "3952     4.025316  3.500000  3.500000  3.765306  3.333333  3.685714  3.458333   \n",
      "\n",
      "cluster        7         8         9         10        11  \n",
      "MID                                                        \n",
      "1        4.333333  4.180328  4.030303  4.220339  4.294118  \n",
      "2        3.271845  3.045455  3.488889  2.818182  3.333333  \n",
      "3        2.894737  2.666667  3.275000  2.562500  3.200000  \n",
      "4        2.666667  2.000000  3.142857  3.250000  3.500000  \n",
      "5        2.973684  2.857143  3.600000  2.714286  3.500000  \n",
      "...           ...       ...       ...       ...       ...  \n",
      "3948     3.653465  3.620690  3.678571  3.541667  3.888889  \n",
      "3949     4.400000  4.307692  4.266667  4.142857  3.666667  \n",
      "3950     4.000000  4.000000  3.714286  3.590105  4.000000  \n",
      "3951     4.142857  4.750000  3.909091  5.000000  3.831795  \n",
      "3952     3.781818  3.777778  3.923077  3.666667  4.250000  \n",
      "\n",
      "[3883 rows x 12 columns]\n"
     ]
    }
   ],
   "source": [
    "print(all_clusters_items)"
   ],
   "metadata": {
    "collapsed": false,
    "ExecuteTime": {
     "end_time": "2023-06-30T22:35:54.799687500Z",
     "start_time": "2023-06-30T22:35:54.749674200Z"
    }
   }
  },
  {
   "cell_type": "code",
   "execution_count": 5,
   "outputs": [
    {
     "name": "stdout",
     "output_type": "stream",
     "text": [
      "      cluster_0  cluster_1  cluster_2  cluster_3  cluster_4  cluster_5  \\\n",
      "UID                                                                      \n",
      "1             0          0          0          0          0          0   \n",
      "2             1          0          0          0          0          0   \n",
      "3             0          0          0          1          0          0   \n",
      "4             1          0          0          0          0          0   \n",
      "5             0          0          0          1          0          0   \n",
      "...         ...        ...        ...        ...        ...        ...   \n",
      "6036          0          0          0          0          0          1   \n",
      "6037          0          0          0          0          0          0   \n",
      "6038          0          0          0          0          0          0   \n",
      "6039          0          0          0          0          0          0   \n",
      "6040          0          0          0          1          0          0   \n",
      "\n",
      "      cluster_6  cluster_7  cluster_8  cluster_9  cluster_10  cluster_11  \n",
      "UID                                                                       \n",
      "1             0          0          0          1           0           0  \n",
      "2             0          0          0          0           0           0  \n",
      "3             0          0          0          0           0           0  \n",
      "4             0          0          0          0           0           0  \n",
      "5             0          0          0          0           0           0  \n",
      "...         ...        ...        ...        ...         ...         ...  \n",
      "6036          0          0          0          0           0           0  \n",
      "6037          0          0          0          1           0           0  \n",
      "6038          0          0          0          1           0           0  \n",
      "6039          0          0          0          1           0           0  \n",
      "6040          0          0          0          0           0           0  \n",
      "\n",
      "[6040 rows x 12 columns]\n"
     ]
    }
   ],
   "source": [
    "print(all_users_cluster)\n"
   ],
   "metadata": {
    "collapsed": false,
    "ExecuteTime": {
     "end_time": "2023-06-30T22:35:55.674136600Z",
     "start_time": "2023-06-30T22:35:55.628989200Z"
    }
   }
  },
  {
   "cell_type": "code",
   "execution_count": 4,
   "outputs": [],
   "source": [
    "# create dataframe of user and rating\n",
    "user_rating_matrix = pd.DataFrame(columns=['UserID', 'MovieID', 'Rating'])"
   ],
   "metadata": {
    "collapsed": false,
    "ExecuteTime": {
     "end_time": "2023-06-29T10:54:10.406685600Z",
     "start_time": "2023-06-29T10:54:10.379928700Z"
    }
   }
  },
  {
   "cell_type": "code",
   "execution_count": 5,
   "outputs": [
    {
     "ename": "KeyboardInterrupt",
     "evalue": "",
     "output_type": "error",
     "traceback": [
      "\u001B[1;31m---------------------------------------------------------------------------\u001B[0m",
      "\u001B[1;31mKeyboardInterrupt\u001B[0m                         Traceback (most recent call last)",
      "Cell \u001B[1;32mIn[5], line 4\u001B[0m\n\u001B[0;32m      2\u001B[0m \u001B[38;5;28;01mfor\u001B[39;00m user_id \u001B[38;5;129;01min\u001B[39;00m all_users_cluster[all_users_cluster[\u001B[38;5;124m'\u001B[39m\u001B[38;5;124mcluster\u001B[39m\u001B[38;5;124m'\u001B[39m] \u001B[38;5;241m==\u001B[39m cluster][\u001B[38;5;124m'\u001B[39m\u001B[38;5;124muser_id\u001B[39m\u001B[38;5;124m'\u001B[39m]:\n\u001B[0;32m      3\u001B[0m     \u001B[38;5;28;01mfor\u001B[39;00m MID, rate \u001B[38;5;129;01min\u001B[39;00m \u001B[38;5;28mzip\u001B[39m(all_clusters_items[all_clusters_items[\u001B[38;5;124m'\u001B[39m\u001B[38;5;124mcluster\u001B[39m\u001B[38;5;124m'\u001B[39m] \u001B[38;5;241m==\u001B[39m cluster][\u001B[38;5;124m'\u001B[39m\u001B[38;5;124mMID\u001B[39m\u001B[38;5;124m'\u001B[39m], all_clusters_items[all_clusters_items[\u001B[38;5;124m'\u001B[39m\u001B[38;5;124mcluster\u001B[39m\u001B[38;5;124m'\u001B[39m] \u001B[38;5;241m==\u001B[39m cluster][\u001B[38;5;124m'\u001B[39m\u001B[38;5;124mrate\u001B[39m\u001B[38;5;124m'\u001B[39m]):\n\u001B[1;32m----> 4\u001B[0m         user_rating_matrix \u001B[38;5;241m=\u001B[39m \u001B[43muser_rating_matrix\u001B[49m\u001B[38;5;241;43m.\u001B[39;49m\u001B[43mappend\u001B[49m\u001B[43m(\u001B[49m\u001B[43m{\u001B[49m\u001B[38;5;124;43m'\u001B[39;49m\u001B[38;5;124;43mUserID\u001B[39;49m\u001B[38;5;124;43m'\u001B[39;49m\u001B[43m:\u001B[49m\u001B[43m \u001B[49m\u001B[43muser_id\u001B[49m\u001B[43m,\u001B[49m\n\u001B[0;32m      5\u001B[0m \u001B[43m                                                        \u001B[49m\u001B[38;5;124;43m'\u001B[39;49m\u001B[38;5;124;43mMovieID\u001B[39;49m\u001B[38;5;124;43m'\u001B[39;49m\u001B[43m:\u001B[49m\u001B[43m \u001B[49m\u001B[43mMID\u001B[49m\u001B[43m,\u001B[49m\n\u001B[0;32m      6\u001B[0m \u001B[43m                                                        \u001B[49m\u001B[38;5;124;43m'\u001B[39;49m\u001B[38;5;124;43mRating\u001B[39;49m\u001B[38;5;124;43m'\u001B[39;49m\u001B[43m:\u001B[49m\u001B[43m \u001B[49m\u001B[43mrate\u001B[49m\u001B[43m}\u001B[49m\u001B[43m,\u001B[49m\u001B[43m \u001B[49m\u001B[43mignore_index\u001B[49m\u001B[38;5;241;43m=\u001B[39;49m\u001B[38;5;28;43;01mTrue\u001B[39;49;00m\u001B[43m)\u001B[49m\n",
      "File \u001B[1;32m~\\AppData\\Local\\Programs\\Python\\Python310\\lib\\site-packages\\pandas\\core\\frame.py:9768\u001B[0m, in \u001B[0;36mDataFrame.append\u001B[1;34m(self, other, ignore_index, verify_integrity, sort)\u001B[0m\n\u001B[0;32m   9665\u001B[0m \u001B[38;5;124;03m\"\"\"\u001B[39;00m\n\u001B[0;32m   9666\u001B[0m \u001B[38;5;124;03mAppend rows of `other` to the end of caller, returning a new object.\u001B[39;00m\n\u001B[0;32m   9667\u001B[0m \n\u001B[1;32m   (...)\u001B[0m\n\u001B[0;32m   9758\u001B[0m \u001B[38;5;124;03m4  4\u001B[39;00m\n\u001B[0;32m   9759\u001B[0m \u001B[38;5;124;03m\"\"\"\u001B[39;00m\n\u001B[0;32m   9760\u001B[0m warnings\u001B[38;5;241m.\u001B[39mwarn(\n\u001B[0;32m   9761\u001B[0m     \u001B[38;5;124m\"\u001B[39m\u001B[38;5;124mThe frame.append method is deprecated \u001B[39m\u001B[38;5;124m\"\u001B[39m\n\u001B[0;32m   9762\u001B[0m     \u001B[38;5;124m\"\u001B[39m\u001B[38;5;124mand will be removed from pandas in a future version. \u001B[39m\u001B[38;5;124m\"\u001B[39m\n\u001B[1;32m   (...)\u001B[0m\n\u001B[0;32m   9765\u001B[0m     stacklevel\u001B[38;5;241m=\u001B[39mfind_stack_level(),\n\u001B[0;32m   9766\u001B[0m )\n\u001B[1;32m-> 9768\u001B[0m \u001B[38;5;28;01mreturn\u001B[39;00m \u001B[38;5;28;43mself\u001B[39;49m\u001B[38;5;241;43m.\u001B[39;49m\u001B[43m_append\u001B[49m\u001B[43m(\u001B[49m\u001B[43mother\u001B[49m\u001B[43m,\u001B[49m\u001B[43m \u001B[49m\u001B[43mignore_index\u001B[49m\u001B[43m,\u001B[49m\u001B[43m \u001B[49m\u001B[43mverify_integrity\u001B[49m\u001B[43m,\u001B[49m\u001B[43m \u001B[49m\u001B[43msort\u001B[49m\u001B[43m)\u001B[49m\n",
      "File \u001B[1;32m~\\AppData\\Local\\Programs\\Python\\Python310\\lib\\site-packages\\pandas\\core\\frame.py:9808\u001B[0m, in \u001B[0;36mDataFrame._append\u001B[1;34m(self, other, ignore_index, verify_integrity, sort)\u001B[0m\n\u001B[0;32m   9805\u001B[0m \u001B[38;5;28;01melse\u001B[39;00m:\n\u001B[0;32m   9806\u001B[0m     to_concat \u001B[38;5;241m=\u001B[39m [\u001B[38;5;28mself\u001B[39m, other]\n\u001B[1;32m-> 9808\u001B[0m result \u001B[38;5;241m=\u001B[39m \u001B[43mconcat\u001B[49m\u001B[43m(\u001B[49m\n\u001B[0;32m   9809\u001B[0m \u001B[43m    \u001B[49m\u001B[43mto_concat\u001B[49m\u001B[43m,\u001B[49m\n\u001B[0;32m   9810\u001B[0m \u001B[43m    \u001B[49m\u001B[43mignore_index\u001B[49m\u001B[38;5;241;43m=\u001B[39;49m\u001B[43mignore_index\u001B[49m\u001B[43m,\u001B[49m\n\u001B[0;32m   9811\u001B[0m \u001B[43m    \u001B[49m\u001B[43mverify_integrity\u001B[49m\u001B[38;5;241;43m=\u001B[39;49m\u001B[43mverify_integrity\u001B[49m\u001B[43m,\u001B[49m\n\u001B[0;32m   9812\u001B[0m \u001B[43m    \u001B[49m\u001B[43msort\u001B[49m\u001B[38;5;241;43m=\u001B[39;49m\u001B[43msort\u001B[49m\u001B[43m,\u001B[49m\n\u001B[0;32m   9813\u001B[0m \u001B[43m\u001B[49m\u001B[43m)\u001B[49m\n\u001B[0;32m   9814\u001B[0m \u001B[38;5;28;01mreturn\u001B[39;00m result\u001B[38;5;241m.\u001B[39m__finalize__(\u001B[38;5;28mself\u001B[39m, method\u001B[38;5;241m=\u001B[39m\u001B[38;5;124m\"\u001B[39m\u001B[38;5;124mappend\u001B[39m\u001B[38;5;124m\"\u001B[39m)\n",
      "File \u001B[1;32m~\\AppData\\Local\\Programs\\Python\\Python310\\lib\\site-packages\\pandas\\util\\_decorators.py:331\u001B[0m, in \u001B[0;36mdeprecate_nonkeyword_arguments.<locals>.decorate.<locals>.wrapper\u001B[1;34m(*args, **kwargs)\u001B[0m\n\u001B[0;32m    325\u001B[0m \u001B[38;5;28;01mif\u001B[39;00m \u001B[38;5;28mlen\u001B[39m(args) \u001B[38;5;241m>\u001B[39m num_allow_args:\n\u001B[0;32m    326\u001B[0m     warnings\u001B[38;5;241m.\u001B[39mwarn(\n\u001B[0;32m    327\u001B[0m         msg\u001B[38;5;241m.\u001B[39mformat(arguments\u001B[38;5;241m=\u001B[39m_format_argument_list(allow_args)),\n\u001B[0;32m    328\u001B[0m         \u001B[38;5;167;01mFutureWarning\u001B[39;00m,\n\u001B[0;32m    329\u001B[0m         stacklevel\u001B[38;5;241m=\u001B[39mfind_stack_level(),\n\u001B[0;32m    330\u001B[0m     )\n\u001B[1;32m--> 331\u001B[0m \u001B[38;5;28;01mreturn\u001B[39;00m func(\u001B[38;5;241m*\u001B[39margs, \u001B[38;5;241m*\u001B[39m\u001B[38;5;241m*\u001B[39mkwargs)\n",
      "File \u001B[1;32m~\\AppData\\Local\\Programs\\Python\\Python310\\lib\\site-packages\\pandas\\core\\reshape\\concat.py:381\u001B[0m, in \u001B[0;36mconcat\u001B[1;34m(objs, axis, join, ignore_index, keys, levels, names, verify_integrity, sort, copy)\u001B[0m\n\u001B[0;32m    159\u001B[0m \u001B[38;5;124;03m\"\"\"\u001B[39;00m\n\u001B[0;32m    160\u001B[0m \u001B[38;5;124;03mConcatenate pandas objects along a particular axis.\u001B[39;00m\n\u001B[0;32m    161\u001B[0m \n\u001B[1;32m   (...)\u001B[0m\n\u001B[0;32m    366\u001B[0m \u001B[38;5;124;03m1   3   4\u001B[39;00m\n\u001B[0;32m    367\u001B[0m \u001B[38;5;124;03m\"\"\"\u001B[39;00m\n\u001B[0;32m    368\u001B[0m op \u001B[38;5;241m=\u001B[39m _Concatenator(\n\u001B[0;32m    369\u001B[0m     objs,\n\u001B[0;32m    370\u001B[0m     axis\u001B[38;5;241m=\u001B[39maxis,\n\u001B[1;32m   (...)\u001B[0m\n\u001B[0;32m    378\u001B[0m     sort\u001B[38;5;241m=\u001B[39msort,\n\u001B[0;32m    379\u001B[0m )\n\u001B[1;32m--> 381\u001B[0m \u001B[38;5;28;01mreturn\u001B[39;00m \u001B[43mop\u001B[49m\u001B[38;5;241;43m.\u001B[39;49m\u001B[43mget_result\u001B[49m\u001B[43m(\u001B[49m\u001B[43m)\u001B[49m\n",
      "File \u001B[1;32m~\\AppData\\Local\\Programs\\Python\\Python310\\lib\\site-packages\\pandas\\core\\reshape\\concat.py:616\u001B[0m, in \u001B[0;36m_Concatenator.get_result\u001B[1;34m(self)\u001B[0m\n\u001B[0;32m    612\u001B[0m             indexers[ax] \u001B[38;5;241m=\u001B[39m obj_labels\u001B[38;5;241m.\u001B[39mget_indexer(new_labels)\n\u001B[0;32m    614\u001B[0m     mgrs_indexers\u001B[38;5;241m.\u001B[39mappend((obj\u001B[38;5;241m.\u001B[39m_mgr, indexers))\n\u001B[1;32m--> 616\u001B[0m new_data \u001B[38;5;241m=\u001B[39m \u001B[43mconcatenate_managers\u001B[49m\u001B[43m(\u001B[49m\n\u001B[0;32m    617\u001B[0m \u001B[43m    \u001B[49m\u001B[43mmgrs_indexers\u001B[49m\u001B[43m,\u001B[49m\u001B[43m \u001B[49m\u001B[38;5;28;43mself\u001B[39;49m\u001B[38;5;241;43m.\u001B[39;49m\u001B[43mnew_axes\u001B[49m\u001B[43m,\u001B[49m\u001B[43m \u001B[49m\u001B[43mconcat_axis\u001B[49m\u001B[38;5;241;43m=\u001B[39;49m\u001B[38;5;28;43mself\u001B[39;49m\u001B[38;5;241;43m.\u001B[39;49m\u001B[43mbm_axis\u001B[49m\u001B[43m,\u001B[49m\u001B[43m \u001B[49m\u001B[43mcopy\u001B[49m\u001B[38;5;241;43m=\u001B[39;49m\u001B[38;5;28;43mself\u001B[39;49m\u001B[38;5;241;43m.\u001B[39;49m\u001B[43mcopy\u001B[49m\n\u001B[0;32m    618\u001B[0m \u001B[43m\u001B[49m\u001B[43m)\u001B[49m\n\u001B[0;32m    619\u001B[0m \u001B[38;5;28;01mif\u001B[39;00m \u001B[38;5;129;01mnot\u001B[39;00m \u001B[38;5;28mself\u001B[39m\u001B[38;5;241m.\u001B[39mcopy:\n\u001B[0;32m    620\u001B[0m     new_data\u001B[38;5;241m.\u001B[39m_consolidate_inplace()\n",
      "File \u001B[1;32m~\\AppData\\Local\\Programs\\Python\\Python310\\lib\\site-packages\\pandas\\core\\internals\\concat.py:223\u001B[0m, in \u001B[0;36mconcatenate_managers\u001B[1;34m(mgrs_indexers, axes, concat_axis, copy)\u001B[0m\n\u001B[0;32m    217\u001B[0m vals \u001B[38;5;241m=\u001B[39m [ju\u001B[38;5;241m.\u001B[39mblock\u001B[38;5;241m.\u001B[39mvalues \u001B[38;5;28;01mfor\u001B[39;00m ju \u001B[38;5;129;01min\u001B[39;00m join_units]\n\u001B[0;32m    219\u001B[0m \u001B[38;5;28;01mif\u001B[39;00m \u001B[38;5;129;01mnot\u001B[39;00m blk\u001B[38;5;241m.\u001B[39mis_extension:\n\u001B[0;32m    220\u001B[0m     \u001B[38;5;66;03m# _is_uniform_join_units ensures a single dtype, so\u001B[39;00m\n\u001B[0;32m    221\u001B[0m     \u001B[38;5;66;03m#  we can use np.concatenate, which is more performant\u001B[39;00m\n\u001B[0;32m    222\u001B[0m     \u001B[38;5;66;03m#  than concat_compat\u001B[39;00m\n\u001B[1;32m--> 223\u001B[0m     values \u001B[38;5;241m=\u001B[39m \u001B[43mnp\u001B[49m\u001B[38;5;241;43m.\u001B[39;49m\u001B[43mconcatenate\u001B[49m\u001B[43m(\u001B[49m\u001B[43mvals\u001B[49m\u001B[43m,\u001B[49m\u001B[43m \u001B[49m\u001B[43maxis\u001B[49m\u001B[38;5;241;43m=\u001B[39;49m\u001B[38;5;241;43m1\u001B[39;49m\u001B[43m)\u001B[49m\n\u001B[0;32m    224\u001B[0m \u001B[38;5;28;01melse\u001B[39;00m:\n\u001B[0;32m    225\u001B[0m     \u001B[38;5;66;03m# TODO(EA2D): special-casing not needed with 2D EAs\u001B[39;00m\n\u001B[0;32m    226\u001B[0m     values \u001B[38;5;241m=\u001B[39m concat_compat(vals, axis\u001B[38;5;241m=\u001B[39m\u001B[38;5;241m1\u001B[39m)\n",
      "File \u001B[1;32m<__array_function__ internals>:200\u001B[0m, in \u001B[0;36mconcatenate\u001B[1;34m(*args, **kwargs)\u001B[0m\n",
      "\u001B[1;31mKeyboardInterrupt\u001B[0m: "
     ]
    }
   ],
   "source": [
    "for cluster in all_users_cluster['cluster'].unique():\n",
    "    for user_id in all_users_cluster[all_users_cluster['cluster'] == cluster]['user_id']:\n",
    "        for MID, rate in zip(all_clusters_items[all_clusters_items['cluster'] == cluster]['MID'], all_clusters_items[all_clusters_items['cluster'] == cluster]['rate']):\n",
    "            user_rating_matrix = user_rating_matrix.append({'UserID': user_id,\n",
    "                                                            'MovieID': MID,\n",
    "                                                            'Rating': rate}, ignore_index=True)"
   ],
   "metadata": {
    "collapsed": false,
    "ExecuteTime": {
     "end_time": "2023-06-29T13:30:24.557027900Z",
     "start_time": "2023-06-29T10:54:11.116433700Z"
    }
   }
  },
  {
   "cell_type": "code",
   "execution_count": 6,
   "outputs": [],
   "source": [
    "# arrange user_rating_matrix by UserID then MovieID\n",
    "user_rating_matrix = user_rating_matrix.sort_values(by=['UserID', 'MovieID'])\n"
   ],
   "metadata": {
    "collapsed": false,
    "ExecuteTime": {
     "end_time": "2023-06-29T13:30:28.568508400Z",
     "start_time": "2023-06-29T13:30:28.276955500Z"
    }
   }
  },
  {
   "cell_type": "code",
   "execution_count": 7,
   "outputs": [
    {
     "name": "stdout",
     "output_type": "stream",
     "text": [
      "         UserID  MovieID    Rating\n",
      "0           2.0      1.0  4.172414\n",
      "1           2.0      2.0  3.268116\n",
      "2           2.0      3.0  2.802632\n",
      "3           2.0      4.0  2.571429\n",
      "4           2.0      5.0  3.018868\n",
      "...         ...      ...       ...\n",
      "1641105  2011.0   2548.0  1.866667\n",
      "1641106  2011.0   2549.0  2.257143\n",
      "1641107  2011.0   2550.0  3.555556\n",
      "1641108  2011.0   2551.0  3.555556\n",
      "1641109  2011.0   2552.0  1.333333\n",
      "\n",
      "[1641110 rows x 3 columns]\n"
     ]
    }
   ],
   "source": [
    "print(user_rating_matrix)"
   ],
   "metadata": {
    "collapsed": false,
    "ExecuteTime": {
     "end_time": "2023-06-29T13:30:29.127176500Z",
     "start_time": "2023-06-29T13:30:29.122177Z"
    }
   }
  },
  {
   "cell_type": "code",
   "execution_count": null,
   "outputs": [],
   "source": [],
   "metadata": {
    "collapsed": false
   }
  }
 ],
 "metadata": {
  "kernelspec": {
   "display_name": "Python 3",
   "language": "python",
   "name": "python3"
  },
  "language_info": {
   "codemirror_mode": {
    "name": "ipython",
    "version": 2
   },
   "file_extension": ".py",
   "mimetype": "text/x-python",
   "name": "python",
   "nbconvert_exporter": "python",
   "pygments_lexer": "ipython2",
   "version": "2.7.6"
  }
 },
 "nbformat": 4,
 "nbformat_minor": 0
}
