{
 "cells": [
  {
   "cell_type": "code",
   "execution_count": 3,
   "outputs": [],
   "source": [
    "import pandas as pd\n",
    "import numpy as np\n",
    "import warnings\n",
    "\n",
    "warnings.filterwarnings(\"ignore\")"
   ],
   "metadata": {
    "collapsed": false,
    "ExecuteTime": {
     "end_time": "2023-06-30T21:24:42.553125600Z",
     "start_time": "2023-06-30T21:24:42.511101400Z"
    }
   }
  },
  {
   "cell_type": "markdown",
   "source": [
    "# Estimate clusters’ ratings to create cluster-items matrix CI:"
   ],
   "metadata": {
    "collapsed": false
   }
  },
  {
   "cell_type": "code",
   "execution_count": 4,
   "outputs": [],
   "source": [
    "ratings = pd.read_csv('datasets/ml-1m/ratings.dat', sep='\\::', engine='python', names=['UID', 'MID', 'rate', 'time'])\n",
    "ratings.drop('time', axis=1, inplace=True)"
   ],
   "metadata": {
    "collapsed": false,
    "ExecuteTime": {
     "end_time": "2023-06-30T21:24:47.376052500Z",
     "start_time": "2023-06-30T21:24:43.588056300Z"
    }
   }
  },
  {
   "cell_type": "code",
   "execution_count": 5,
   "outputs": [],
   "source": [
    "UC_matrix = pd.read_pickle('datasets/matrices/all_users_cluster.pkl')"
   ],
   "metadata": {
    "collapsed": false,
    "ExecuteTime": {
     "end_time": "2023-06-30T21:24:47.412241400Z",
     "start_time": "2023-06-30T21:24:47.376052500Z"
    }
   }
  },
  {
   "cell_type": "code",
   "execution_count": 6,
   "outputs": [
    {
     "name": "stdout",
     "output_type": "stream",
     "text": [
      "          UID   MID  rate\n",
      "0           1  1193     5\n",
      "1           1   661     3\n",
      "2           1   914     3\n",
      "3           1  3408     4\n",
      "4           1  2355     5\n",
      "...       ...   ...   ...\n",
      "1000204  6040  1091     1\n",
      "1000205  6040  1094     5\n",
      "1000206  6040   562     5\n",
      "1000207  6040  1096     4\n",
      "1000208  6040  1097     4\n",
      "\n",
      "[1000209 rows x 3 columns]\n"
     ]
    }
   ],
   "source": [
    "print(ratings)"
   ],
   "metadata": {
    "collapsed": false,
    "ExecuteTime": {
     "end_time": "2023-06-30T21:24:47.417241700Z",
     "start_time": "2023-06-30T21:24:47.409241100Z"
    }
   }
  },
  {
   "cell_type": "code",
   "execution_count": 7,
   "outputs": [],
   "source": [
    "movies = pd.read_csv(\"datasets/ml-1m/movies.dat\", sep='\\::', engine='python', names=['MID', 'name', 'genre'], encoding='latin-1')\n",
    "\n",
    "movies['genre'] = movies['genre'].apply(lambda x: x.split('|'))"
   ],
   "metadata": {
    "collapsed": false,
    "ExecuteTime": {
     "end_time": "2023-06-30T21:24:47.439249700Z",
     "start_time": "2023-06-30T21:24:47.410240900Z"
    }
   }
  },
  {
   "cell_type": "code",
   "execution_count": 8,
   "outputs": [],
   "source": [
    "all_cluster_items = pd.DataFrame(columns=[\"cluster\", \"MID\"])"
   ],
   "metadata": {
    "collapsed": false,
    "ExecuteTime": {
     "end_time": "2023-06-30T21:24:47.468269100Z",
     "start_time": "2023-06-30T21:24:47.440250200Z"
    }
   }
  },
  {
   "cell_type": "raw",
   "source": [
    "'''\n",
    "estimate ratings for all items in each cluster\n",
    "if there are users rated item i before in cluster c,\n",
    "then the rating of item i in cluster c is the average of the ratings of item i by users in cluster c\n",
    "else if there are similar items to item i rated by users in the cluster c\n",
    "then the rating of item i in cluster c is the average of the ratings of the similar items by users in cluster c\n",
    "similar items are items that have at least one similar genre as item i\n",
    "else the rating of item i in cluster c is the average of the ratings of item i by all users\n",
    "\n",
    "make tha matrix in the form of:\n",
    "\n",
    "            clusters\n",
    "MID      1   2   3   4   5   6   7   8   9   10  ...\n",
    "    0   3.5 4.5 3.0 3.5 4.0 3.5 4.0 3.5 4.0 3.5 ...\n",
    "    1   3.5 4.5 3.0 3.5 4.0 3.5 4.0 3.5 4.0 3.5 ...\n",
    "    2   3.5 4.5 3.0 3.5 4.0 3.5 4.0 3.5 4.0 3.5 ...\n",
    "\n",
    "'''\n"
   ],
   "metadata": {
    "collapsed": false
   }
  },
  {
   "cell_type": "code",
   "execution_count": 17,
   "outputs": [],
   "source": [
    "# iterate over clusters\n",
    "for i in range(12):\n",
    "    # open file\n",
    "    with open(\"reports/cluster movies ratings/cluster\" + str(i) + \"_items.txt\", \"w\") as f:\n",
    "        print('\\n\\n', file=f)\n",
    "        print('*'*50, file=f)\n",
    "        print('\\n\\n', file=f)\n",
    "        print(\"Cluster\", i, \":\\n\", file=f)\n",
    "\n",
    "        cluster_items = pd.DataFrame(columns=[\"cluster\", \"MID\", \"name\", \"rate\"])\n",
    "\n",
    "        # get the users in cluster i\n",
    "        cluster_users = pd.read_pickle(\"datasets/clusters/cluster_\" + str(i) + \".pkl\")\n",
    "\n",
    "        # get the ratings of the users in cluster i\n",
    "        cluster_ratings = ratings[ratings['UID'].isin(cluster_users['UID'])]\n",
    "\n",
    "        print(\"Cluster\", i, \":\", len(cluster_ratings), \"ratings\\n\", file=f)\n",
    "\n",
    "        # iterate over items\n",
    "        for j in movies['MID']:\n",
    "            # get the ratings of item j by users in cluster i\n",
    "            item_ratings = cluster_ratings[cluster_ratings['MID'] == j]\n",
    "            print(\"\\n***************************\\\n",
    "                    \\nItem\", j, movies[movies['MID'] == j]['name'].values[0], \":\", len(item_ratings), \"ratings\", file=f)\n",
    "\n",
    "            # if there are users rated item j before in cluster i\n",
    "            if len(item_ratings) > 0:\n",
    "                # calculate the average rating of item j in cluster i\n",
    "                avg_rating = item_ratings['rate'].mean()\n",
    "                print(\"Average rating of item\", j, \"in cluster\", i, \":\", avg_rating, file=f)\n",
    "            else:\n",
    "                # get the genre of item j\n",
    "                item_genre = movies[movies['MID'] == j]['genre'].values[0]\n",
    "                # get the similar items to item j\n",
    "                similar_items = movies[movies['genre'].apply(lambda x: len(set(x).intersection(item_genre)) > 0)]['MID'].values\n",
    "                # get the ratings of the similar items by users in cluster i\n",
    "                similar_items_ratings = cluster_ratings[cluster_ratings['MID'].isin(similar_items)]\n",
    "                # if there are similar items to item j rated by users in cluster i\n",
    "                if len(similar_items_ratings) > 0:\n",
    "                    print(\"Some of similar items to item\", j, \"in cluster\", i, \"are:\", movies[movies['MID'].isin(similar_items_ratings['MID'])]['name'].values, file=f)\n",
    "                    # calculate the average rating of the similar items in cluster i\n",
    "                    avg_rating = similar_items_ratings['rate'].mean()\n",
    "                    print(\"Average rating of similar items of item\", j, \"in cluster\", i, \":\", avg_rating, file=f)\n",
    "                else:\n",
    "                    print(\"No similar items to item\", j, \"in cluster\", i, file=f)\n",
    "                    # calculate the average rating of all items by all users\n",
    "                    avg_rating = ratings['rate'].mean()\n",
    "                    print(\"Average rating of all items in cluster\", i, \":\", avg_rating, file=f)\n",
    "\n",
    "            cluster_items = cluster_items.append({'MID': j, 'name':movies[movies['MID'] == j]['name'].values[0], 'cluster': i, 'rate': avg_rating}, ignore_index=True)\n",
    "            all_cluster_items = all_cluster_items.append({'MID': j, 'name':movies[movies['MID'] == j]['name'].values[0], 'cluster': i, 'rate': avg_rating}, ignore_index=True)\n",
    "\n",
    "        # cluster_items.to_pickle(\"datasets/clusters/cluster\" + str(i) + \"_items.pkl\")\n",
    "\n",
    "# save the dataframe all_cluster_items to a pickle file\n",
    "all_cluster_items = pd.pivot_table(all_cluster_items, values='rate', index=['MID'], columns=['cluster'], aggfunc=np.sum, fill_value=0)\n",
    "# all_cluster_items.to_pickle(\"datasets/matrices/all_cluster_items.pkl\")\n"
   ],
   "metadata": {
    "collapsed": false,
    "ExecuteTime": {
     "end_time": "2023-06-30T22:26:27.670975500Z",
     "start_time": "2023-06-30T22:20:46.617347800Z"
    }
   }
  },
  {
   "cell_type": "code",
   "execution_count": null,
   "outputs": [],
   "source": [],
   "metadata": {
    "collapsed": false
   }
  }
 ],
 "metadata": {
  "kernelspec": {
   "display_name": "Python 3",
   "language": "python",
   "name": "python3"
  },
  "language_info": {
   "codemirror_mode": {
    "name": "ipython",
    "version": 2
   },
   "file_extension": ".py",
   "mimetype": "text/x-python",
   "name": "python",
   "nbconvert_exporter": "python",
   "pygments_lexer": "ipython2",
   "version": "2.7.6"
  }
 },
 "nbformat": 4,
 "nbformat_minor": 0
}
