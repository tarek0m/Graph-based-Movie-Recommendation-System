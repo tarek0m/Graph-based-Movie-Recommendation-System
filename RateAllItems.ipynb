{
 "cells": [
  {
   "cell_type": "code",
   "execution_count": 13,
   "outputs": [],
   "source": [
    "import pandas as pd\n",
    "import numpy as np\n",
    "import warnings\n",
    "\n",
    "warnings.filterwarnings(\"ignore\")"
   ],
   "metadata": {
    "collapsed": false,
    "ExecuteTime": {
     "end_time": "2023-06-29T10:18:13.243450700Z",
     "start_time": "2023-06-29T10:18:13.229009Z"
    }
   }
  },
  {
   "cell_type": "markdown",
   "source": [
    "# Estimate clusters’ ratings to create cluster-items matrix CI:"
   ],
   "metadata": {
    "collapsed": false
   }
  },
  {
   "cell_type": "code",
   "execution_count": 14,
   "outputs": [],
   "source": [
    "ratings = pd.read_pickle('datasets/seen/ratings_rest.dat')"
   ],
   "metadata": {
    "collapsed": false,
    "ExecuteTime": {
     "end_time": "2023-06-29T10:18:13.956510200Z",
     "start_time": "2023-06-29T10:18:13.932509700Z"
    }
   }
  },
  {
   "cell_type": "code",
   "execution_count": 15,
   "outputs": [],
   "source": [
    "movies = pd.read_csv(\"datasets/ml-1m/movies.dat\", sep='\\::', engine='python', names=['MID', 'name', 'genre'], encoding='latin-1')\n",
    "\n",
    "movies['genre'] = movies['genre'].apply(lambda x: x.split('|'))"
   ],
   "metadata": {
    "collapsed": false,
    "ExecuteTime": {
     "end_time": "2023-06-29T10:18:14.271347700Z",
     "start_time": "2023-06-29T10:18:14.241603700Z"
    }
   }
  },
  {
   "cell_type": "code",
   "execution_count": 16,
   "outputs": [],
   "source": [
    "# create a dataframe with two columns: MID and cluster\n",
    "cluster_items = pd.DataFrame(columns=[\"MID\", \"name\", \"cluster\"])\n",
    "\n",
    "all_cluster_items = pd.DataFrame(columns=[\"MID\", \"name\", \"cluster\"])"
   ],
   "metadata": {
    "collapsed": false,
    "ExecuteTime": {
     "end_time": "2023-06-29T10:18:14.551928700Z",
     "start_time": "2023-06-29T10:18:14.537928700Z"
    }
   }
  },
  {
   "cell_type": "code",
   "execution_count": 17,
   "outputs": [
    {
     "data": {
      "text/plain": "'\\nestimate ratings for all items in each cluster\\nif there are users rated item i before in cluster c,\\nthen the rating of item i in cluster c is the average of the ratings of item i by users in cluster c\\nelse if there are similar items to item i rated by users in the cluster c\\nthen the rating of item i in cluster c is the average of the ratings of the similar items by users in cluster c\\nsimilar items are items that have at least one similar genre as item i\\nelse the rating of item i in cluster c is the average of the ratings of item i by all users\\n'"
     },
     "execution_count": 17,
     "metadata": {},
     "output_type": "execute_result"
    }
   ],
   "source": [
    "'''\n",
    "estimate ratings for all items in each cluster\n",
    "if there are users rated item i before in cluster c,\n",
    "then the rating of item i in cluster c is the average of the ratings of item i by users in cluster c\n",
    "else if there are similar items to item i rated by users in the cluster c\n",
    "then the rating of item i in cluster c is the average of the ratings of the similar items by users in cluster c\n",
    "similar items are items that have at least one similar genre as item i\n",
    "else the rating of item i in cluster c is the average of the ratings of item i by all users\n",
    "'''"
   ],
   "metadata": {
    "collapsed": false,
    "ExecuteTime": {
     "end_time": "2023-06-29T10:18:14.927877300Z",
     "start_time": "2023-06-29T10:18:14.910877800Z"
    }
   }
  },
  {
   "cell_type": "code",
   "execution_count": 18,
   "outputs": [
    {
     "name": "stdout",
     "output_type": "stream",
     "text": [
      "Cluster 0 :\n",
      "Number of ratings: 199319\n",
      "Number of users: 1329\n",
      "Number of rated items: 3500\n",
      "Average rating of cluster 0 : 3.276547307977412\n",
      "Estimated ratings for all items ( 3883 ):\n",
      "Cluster 1 :\n",
      "Number of ratings: 70237\n",
      "Number of users: 429\n",
      "Number of rated items: 3173\n",
      "Average rating of cluster 1 : 3.3300546897805163\n",
      "Estimated ratings for all items ( 3883 ):\n",
      "Cluster 2 :\n",
      "Number of ratings: 117370\n",
      "Number of users: 690\n",
      "Number of rated items: 3413\n",
      "Average rating of cluster 2 : 3.3325159625875767\n",
      "Estimated ratings for all items ( 3883 ):\n",
      "Cluster 3 :\n",
      "Number of ratings: 92224\n",
      "Number of users: 549\n",
      "Number of rated items: 3242\n",
      "Average rating of cluster 3 : 3.361793828875295\n",
      "Estimated ratings for all items ( 3883 ):\n",
      "Cluster 4 :\n",
      "Number of ratings: 53671\n",
      "Number of users: 331\n",
      "Number of rated items: 3163\n",
      "Average rating of cluster 4 : 3.3686857528745904\n",
      "Estimated ratings for all items ( 3883 ):\n",
      "Cluster 5 :\n",
      "Number of ratings: 135893\n",
      "Number of users: 778\n",
      "Number of rated items: 3390\n",
      "Average rating of cluster 5 : 3.3708999119514695\n",
      "Estimated ratings for all items ( 3883 ):\n",
      "Cluster 6 :\n",
      "Number of ratings: 113645\n",
      "Number of users: 671\n",
      "Number of rated items: 3323\n",
      "Average rating of cluster 6 : 3.3502870591046334\n",
      "Estimated ratings for all items ( 3883 ):\n",
      "Cluster 7 :\n",
      "Number of ratings: 48926\n",
      "Number of users: 329\n",
      "Number of rated items: 3158\n",
      "Average rating of cluster 7 : 3.2179246618035866\n",
      "Estimated ratings for all items ( 3883 ):\n",
      "Cluster 8 :\n",
      "Number of ratings: 30478\n",
      "Number of users: 177\n",
      "Number of rated items: 2929\n",
      "Average rating of cluster 8 : 3.339655687892842\n",
      "Estimated ratings for all items ( 3883 ):\n",
      "Cluster 9 :\n",
      "Number of ratings: 29516\n",
      "Number of users: 189\n",
      "Number of rated items: 2860\n",
      "Average rating of cluster 9 : 3.374327266672013\n",
      "Estimated ratings for all items ( 3883 ):\n",
      "Cluster 10 :\n",
      "Number of ratings: 45479\n",
      "Number of users: 292\n",
      "Number of rated items: 2992\n",
      "Average rating of cluster 10 : 3.367884930857709\n",
      "Estimated ratings for all items ( 3883 ):\n",
      "Cluster 11 :\n",
      "Number of ratings: 29693\n",
      "Number of users: 176\n",
      "Number of rated items: 2811\n",
      "Average rating of cluster 11 : 3.514218393593267\n",
      "Estimated ratings for all items ( 3883 ):\n"
     ]
    }
   ],
   "source": [
    "# iterate over clusters\n",
    "for i in range(12):\n",
    "    print(\"Cluster\", i, \":\")\n",
    "\n",
    "    cluster_items.drop(cluster_items.index, inplace=True)\n",
    "\n",
    "\n",
    "    # get the users in cluster i\n",
    "    cluster_users = pd.read_pickle(\"datasets/combined-u/cluster\" + str(i) + \".pkl\")\n",
    "\n",
    "    # get the ratings of the users in cluster i\n",
    "    cluster_ratings = ratings[ratings['UID'].isin(cluster_users['user_id'])]\n",
    "    print(\"Number of ratings:\", len(cluster_ratings))\n",
    "    print(\"Number of users:\", len(cluster_users))\n",
    "    print(\"Number of rated items:\", len(cluster_ratings['MID'].unique()))\n",
    "\n",
    "    # iterate over items\n",
    "    for j in movies['MID']:\n",
    "        # get the ratings of item j by users in cluster i\n",
    "        item_ratings = cluster_ratings[cluster_ratings['MID'] == j]\n",
    "        # if there are users rated item j before in cluster i\n",
    "        if len(item_ratings) > 0:\n",
    "            # calculate the average rating of item j in cluster i\n",
    "            avg_rating = item_ratings['rate'].mean()\n",
    "        else:\n",
    "            # get the genre of item j\n",
    "            item_genre = movies[movies['MID'] == j]['genre'].values[0]\n",
    "            # get the similar items to item j\n",
    "            similar_items = movies[movies['genre'].apply(lambda x: len(set(x).intersection(item_genre)) > 0)]['MID'].values\n",
    "            # get the ratings of the similar items by users in cluster i\n",
    "            similar_items_ratings = cluster_ratings[cluster_ratings['MID'].isin(similar_items)]\n",
    "            # if there are similar items to item j rated by users in cluster i\n",
    "            if len(similar_items_ratings) > 0:\n",
    "                # calculate the average rating of the similar items in cluster i\n",
    "                avg_rating = similar_items_ratings['rate'].mean()\n",
    "            else:\n",
    "                # calculate the average rating of item j by all users\n",
    "                avg_rating = ratings[ratings['MID'] == j]['rate'].mean()\n",
    "        # add the MID and cluster to the dataframe\n",
    "        cluster_items = cluster_items.append({'MID': j, 'name':movies[movies['MID'] == j]['name'].values[0], 'cluster': i, 'rate': avg_rating}, ignore_index=True)\n",
    "        all_cluster_items = all_cluster_items.append({'MID': j, 'name':movies[movies['MID'] == j]['name'].values[0], 'cluster': i, 'rate': avg_rating}, ignore_index=True)\n",
    "    print(\"Average rating of cluster\", i, \":\", cluster_items[cluster_items['cluster'] == i]['rate'].mean())\n",
    "    print(\"Estimated ratings for all items (\", len(movies['MID']), \"):\")\n",
    "    cluster_items.to_pickle(\"datasets/combined-u/cluster\" + str(i) + \"_items.pkl\")\n",
    "\n",
    "# save the dataframe to a pickle file\n",
    "all_cluster_items.to_pickle(\"datasets/combined-u/all_clusters_items.pkl\")\n"
   ],
   "metadata": {
    "collapsed": false,
    "ExecuteTime": {
     "end_time": "2023-06-29T10:21:52.470755100Z",
     "start_time": "2023-06-29T10:18:15.304784Z"
    }
   }
  },
  {
   "cell_type": "code",
   "execution_count": 19,
   "outputs": [
    {
     "name": "stdout",
     "output_type": "stream",
     "text": [
      "        MID                                name cluster      rate\n",
      "0         1                    Toy Story (1995)       0  4.172414\n",
      "1         2                      Jumanji (1995)       0  3.268116\n",
      "2         3             Grumpier Old Men (1995)       0  2.802632\n",
      "3         4            Waiting to Exhale (1995)       0  2.571429\n",
      "4         5  Father of the Bride Part II (1995)       0  3.018868\n",
      "...     ...                                 ...     ...       ...\n",
      "46591  3948             Meet the Parents (2000)      11  3.608696\n",
      "46592  3949          Requiem for a Dream (2000)      11  3.666667\n",
      "46593  3950                    Tigerland (2000)      11  5.000000\n",
      "46594  3951             Two Family House (2000)      11  3.834861\n",
      "46595  3952               Contender, The (2000)      11  3.666667\n",
      "\n",
      "[46596 rows x 4 columns]\n"
     ]
    }
   ],
   "source": [
    "print(all_cluster_items)"
   ],
   "metadata": {
    "collapsed": false,
    "ExecuteTime": {
     "end_time": "2023-06-29T10:21:52.502766300Z",
     "start_time": "2023-06-29T10:21:52.486766200Z"
    }
   }
  },
  {
   "cell_type": "code",
   "execution_count": null,
   "outputs": [],
   "source": [],
   "metadata": {
    "collapsed": false
   }
  }
 ],
 "metadata": {
  "kernelspec": {
   "display_name": "Python 3",
   "language": "python",
   "name": "python3"
  },
  "language_info": {
   "codemirror_mode": {
    "name": "ipython",
    "version": 2
   },
   "file_extension": ".py",
   "mimetype": "text/x-python",
   "name": "python",
   "nbconvert_exporter": "python",
   "pygments_lexer": "ipython2",
   "version": "2.7.6"
  }
 },
 "nbformat": 4,
 "nbformat_minor": 0
}
